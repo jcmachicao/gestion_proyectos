{
 "cells": [
  {
   "cell_type": "code",
   "execution_count": 13,
   "metadata": {},
   "outputs": [],
   "source": [
    "import gantt\n",
    "import datetime"
   ]
  },
  {
   "cell_type": "code",
   "execution_count": 14,
   "metadata": {},
   "outputs": [],
   "source": [
    "rAPO = gantt.Resource('APO')"
   ]
  },
  {
   "cell_type": "code",
   "execution_count": 15,
   "metadata": {},
   "outputs": [],
   "source": [
    "nom_tareas = ['Preparación', 'Afianzamiento', 'Prevención']\n",
    "fini_tareas = [[2014,12,25],[2014,12,28],[2015,1,1]]\n",
    "ffin_tareas = [[2014,12,30],[2015,1,4],[2015,1,12]]\n",
    "dura_tareas = [4,8,4]\n",
    "avan_tareas = [44,55,22]"
   ]
  },
  {
   "cell_type": "code",
   "execution_count": 16,
   "metadata": {},
   "outputs": [],
   "source": [
    "p = gantt.Project(name='Proyecto01')"
   ]
  },
  {
   "cell_type": "code",
   "execution_count": 17,
   "metadata": {},
   "outputs": [],
   "source": [
    "tareas = []\n",
    "for i in range(3):\n",
    "    tr = gantt.Task(name=nom_tareas[i], \n",
    "                    start=datetime.date(fini_tareas[i][0],fini_tareas[i][1],fini_tareas[i][2]), \n",
    "                    duration=dura_tareas[i], percent_done=avan_tareas[i], \n",
    "                    resources=[rAPO], color=\"#FF8080\")\n",
    "    p.add_task(tr)"
   ]
  },
  {
   "cell_type": "code",
   "execution_count": 19,
   "metadata": {},
   "outputs": [],
   "source": [
    "p.make_svg_for_tasks(filename='D://test_full.svg', \n",
    "                     today=datetime.date(2014, 12, 31), \n",
    "                     start=datetime.date(2014, 12, 20), \n",
    "                     end=datetime.date(2015, 1, 14))"
   ]
  },
  {
   "cell_type": "code",
   "execution_count": null,
   "metadata": {},
   "outputs": [],
   "source": []
  }
 ],
 "metadata": {
  "kernelspec": {
   "display_name": "Python 3",
   "language": "python",
   "name": "python3"
  },
  "language_info": {
   "codemirror_mode": {
    "name": "ipython",
    "version": 3
   },
   "file_extension": ".py",
   "mimetype": "text/x-python",
   "name": "python",
   "nbconvert_exporter": "python",
   "pygments_lexer": "ipython3",
   "version": "3.7.3"
  }
 },
 "nbformat": 4,
 "nbformat_minor": 2
}
