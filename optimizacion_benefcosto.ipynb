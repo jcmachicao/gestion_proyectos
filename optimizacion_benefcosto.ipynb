{
  "nbformat": 4,
  "nbformat_minor": 0,
  "metadata": {
    "colab": {
      "provenance": [],
      "authorship_tag": "ABX9TyNOrRnIJZJJWmdRne93fTo1",
      "include_colab_link": true
    },
    "kernelspec": {
      "name": "python3",
      "display_name": "Python 3"
    },
    "language_info": {
      "name": "python"
    }
  },
  "cells": [
    {
      "cell_type": "markdown",
      "metadata": {
        "id": "view-in-github",
        "colab_type": "text"
      },
      "source": [
        "<a href=\"https://colab.research.google.com/github/jcmachicao/gestion_proyectos/blob/main/optimizacion_benefcosto.ipynb\" target=\"_parent\"><img src=\"https://colab.research.google.com/assets/colab-badge.svg\" alt=\"Open In Colab\"/></a>"
      ]
    },
    {
      "cell_type": "code",
      "source": [
        "import itertools"
      ],
      "metadata": {
        "id": "BSKP4lirB4d3"
      },
      "execution_count": null,
      "outputs": []
    },
    {
      "cell_type": "code",
      "execution_count": null,
      "metadata": {
        "id": "-Zp2JKQGB1xT"
      },
      "outputs": [],
      "source": [
        "# Define the data for each component\n",
        "caniv_estructura = [\"Fuerte\", \"Normal\", \"Débil\"]\n",
        "benef_estructura = [100, 80, 50]\n",
        "costo_estructura = [5000, 4800, 3800]\n",
        "\n",
        "caniv_funcionalidad = [\"Alta\", \"Normal\", \"Baja\"]\n",
        "benef_funcionalidad = [90, 70, 40]\n",
        "costo_funcionalidad = [5000, 2000, 1500]\n",
        "\n",
        "caniv_acabados = [\"Alta\", \"Normal\", \"Baja\"]\n",
        "benef_acabados = [24, 15, 14]\n",
        "costo_acabados = [2000, 2500, 2400]\n",
        "\n",
        "# Initialize variables to store the best combination\n",
        "combinacion_optima = None\n",
        "ratio_optimo = 0"
      ]
    },
    {
      "cell_type": "code",
      "source": [
        "for calidad_estructura, calidad_functionalidad, calidad_acabados in itertools.product(caniv_estructura, caniv_funcionalidad, caniv_acabados):\n",
        "    index_estructura = caniv_estructura.index(calidad_estructura)\n",
        "    index_functionalidad = caniv_funcionalidad.index(calidad_functionalidad)\n",
        "    index_acabados = caniv_acabados.index(calidad_acabados)\n",
        "\n",
        "    benef_tot = benef_estructura[index_estructura] + benef_funcionalidad[index_functionalidad] + benef_acabados[index_acabados]\n",
        "    costo_tot = costo_estructura[index_estructura] + costo_funcionalidad[index_functionalidad] + costo_acabados[index_acabados]\n",
        "\n",
        "    ratio_actual = benef_tot / costo_tot\n",
        "\n",
        "    if ratio_actual > ratio_optimo:\n",
        "        ratio_optimo = ratio_actual\n",
        "        combinacion_optima = (calidad_estructura, calidad_functionalidad, calidad_acabados)\n",
        "        print('****', combinacion_optima)"
      ],
      "metadata": {
        "colab": {
          "base_uri": "https://localhost:8080/"
        },
        "id": "SGA-o1VfB8DT",
        "outputId": "5517afaf-206e-41b6-cf27-5cf68a9621d0"
      },
      "execution_count": null,
      "outputs": [
        {
          "output_type": "stream",
          "name": "stdout",
          "text": [
            "**** ('Strong', 'High', 'Alta')\n",
            "**** ('Strong', 'Normal', 'Alta')\n",
            "**** ('Normal', 'Normal', 'Alta')\n"
          ]
        }
      ]
    },
    {
      "cell_type": "code",
      "source": [
        "print(\"Mejor Combinacion:\", combinacion_optima)\n",
        "print(\"Mejor Ratio Benecio-Costo:\", ratio_optimo)"
      ],
      "metadata": {
        "colab": {
          "base_uri": "https://localhost:8080/"
        },
        "id": "lfNklOMgCIRN",
        "outputId": "0bfe7834-b96c-4915-97f3-c1a6984e0d81"
      },
      "execution_count": null,
      "outputs": [
        {
          "output_type": "stream",
          "name": "stdout",
          "text": [
            "Best Combination: ('Normal', 'Normal', 'Alta')\n",
            "Best Benefit-Cost Ratio: 0.02175\n"
          ]
        }
      ]
    }
  ]
}