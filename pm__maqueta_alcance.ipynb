{
  "nbformat": 4,
  "nbformat_minor": 0,
  "metadata": {
    "colab": {
      "provenance": [],
      "authorship_tag": "ABX9TyMWPD8usXZostbx8sgwzQAF",
      "include_colab_link": true
    },
    "kernelspec": {
      "name": "python3",
      "display_name": "Python 3"
    },
    "language_info": {
      "name": "python"
    }
  },
  "cells": [
    {
      "cell_type": "markdown",
      "metadata": {
        "id": "view-in-github",
        "colab_type": "text"
      },
      "source": [
        "<a href=\"https://colab.research.google.com/github/jcmachicao/gestion_proyectos/blob/main/pm__maqueta_alcance.ipynb\" target=\"_parent\"><img src=\"https://colab.research.google.com/assets/colab-badge.svg\" alt=\"Open In Colab\"/></a>"
      ]
    },
    {
      "cell_type": "code",
      "source": [
        "!pip install Squarify"
      ],
      "metadata": {
        "colab": {
          "base_uri": "https://localhost:8080/"
        },
        "id": "hWF7iBsQda6d",
        "outputId": "f1f32aa7-1200-4cd3-adc7-24bf4c474666"
      },
      "execution_count": null,
      "outputs": [
        {
          "output_type": "stream",
          "name": "stdout",
          "text": [
            "Collecting Squarify\n",
            "  Downloading squarify-0.4.3-py3-none-any.whl (4.3 kB)\n",
            "Installing collected packages: Squarify\n",
            "Successfully installed Squarify-0.4.3\n"
          ]
        }
      ]
    },
    {
      "cell_type": "code",
      "source": [
        "import matplotlib.pyplot as plt\n",
        "import squarify\n",
        "import pandas as pd"
      ],
      "metadata": {
        "id": "BefWRWLAclw7"
      },
      "execution_count": null,
      "outputs": []
    },
    {
      "cell_type": "code",
      "execution_count": null,
      "metadata": {
        "colab": {
          "base_uri": "https://localhost:8080/"
        },
        "id": "-rWQlQYOcio_",
        "outputId": "15e9c1d6-8e34-458a-9314-be84495e3108"
      },
      "outputs": [
        {
          "output_type": "stream",
          "name": "stderr",
          "text": [
            "<ipython-input-3-a54b81d780ac>:10: FutureWarning: Indexing with multiple keys (implicitly converted to a tuple of keys) will be deprecated, use a list instead.\n",
            "  component_data = data.groupby('Componente')['Valor Planificado', 'Costo Real'].sum().reset_index()\n"
          ]
        }
      ],
      "source": [
        "# Data de muestra\n",
        "data = pd.DataFrame({\n",
        "    'Entregable ID': [1, 2, 3, 4, 5, 6, 7, 8, 9, 10, 11, 12, 13, 14, 15],\n",
        "    'Valor Planificado': [10, 20, 5, 15, 7, 8, 6, 4, 3, 9, 12, 11, 14, 16, 6],\n",
        "    'Costo Real': [12, 20, 5, 12, 7, 11, 6, 6, 3, 9, 11, 10, 18, 16, 12],\n",
        "    'Componente': ['A', 'B', 'C', 'D', 'A', 'E', 'C', 'E', 'A', 'B', 'C', 'D', 'A', 'B', 'C']\n",
        "})\n",
        "\n",
        "# Agrupa por componente\n",
        "component_data = data.groupby('Componente')['Valor Planificado', 'Costo Real'].sum().reset_index()\n",
        "total_scope = component_data['Valor Planificado'].sum()\n",
        "total_cost = component_data['Costo Real'].sum()\n",
        "rel_prop_val = [(value / total_scope) for value in component_data['Valor Planificado']]\n",
        "rel_prop_cos = [(value / total_cost) for value in component_data['Costo Real']]\n",
        "component_labels = component_data['Componente']\n",
        "colors = ['red', 'blue', 'green', 'purple']"
      ]
    },
    {
      "cell_type": "code",
      "source": [
        "fig, axs = plt.subplots(1, 2, figsize=(10, 5))\n",
        "\n",
        "# Plot the treemap for Deliverable Value in the first subplot\n",
        "axs[0].set_title(\"Alcance del Proyecto por Componente: Valor Planificado\")\n",
        "squarify.plot(sizes=rel_prop_val, label=component_labels, color=colors, alpha=0.7, ax=axs[0])\n",
        "axs[0].axis('off')  # Turn off axis labels\n",
        "\n",
        "# Plot the treemap for Cost in the second subplot\n",
        "axs[1].set_title(\"Alcance del Proyecto por Componente: Costo Real\")\n",
        "squarify.plot(sizes=rel_prop_cos, label=component_labels, color=colors, alpha=0.7, ax=axs[1])\n",
        "axs[1].axis('off')  # Turn off axis labels\n",
        "\n",
        "# Adjust spacing between subplots\n",
        "plt.tight_layout()\n"
      ],
      "metadata": {
        "colab": {
          "base_uri": "https://localhost:8080/",
          "height": 507
        },
        "id": "eMWeGavxeo5l",
        "outputId": "ee778547-5b21-466d-a1a9-ca8fc7b40708"
      },
      "execution_count": null,
      "outputs": [
        {
          "output_type": "display_data",
          "data": {
            "text/plain": [
              "<Figure size 1000x500 with 2 Axes>"
            ],
            "image/png": "[encoded data removed]"
          },
          "metadata": {}
        }
      ]
    }
  ]
}