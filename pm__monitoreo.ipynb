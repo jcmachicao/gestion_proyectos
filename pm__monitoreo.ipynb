{
 "cells": [
  {
   "cell_type": "markdown",
   "metadata": {
    "colab_type": "text",
    "id": "K7ctHI8FXP0X"
   },
   "source": [
    "# Monitoreo Cuantitativo"
   ]
  },
  {
   "cell_type": "code",
   "execution_count": null,
   "metadata": {
    "colab": {},
    "colab_type": "code",
    "id": "J_ZjCZdkHLx6"
   },
   "outputs": [],
   "source": [
    "#imports\n",
    "import matplotlib.pyplot as plt\n",
    "import pandas as pd\n",
    "import numpy as np"
   ]
  },
  {
   "cell_type": "code",
   "execution_count": null,
   "metadata": {
    "colab": {},
    "colab_type": "code",
    "id": "8M3JcEZEHVQi"
   },
   "outputs": [],
   "source": [
    "#definición de periodos\n",
    "periodos = [0, 1, 2, 3, 4, 5, 6, 7, 8, 9, 10]"
   ]
  },
  {
   "cell_type": "code",
   "execution_count": null,
   "metadata": {
    "colab": {},
    "colab_type": "code",
    "id": "YdH330bBXesH"
   },
   "outputs": [],
   "source": [
    "#modelamiento técnico\n",
    "u_c1 = [0.01, 4, 4, 6, 6, 7, 8, 12, 16, 18]\n",
    "u_c2 = [0.01, 50, 50, 120, 120, 200, 210, 300, 320, 350]"
   ]
  },
  {
   "cell_type": "code",
   "execution_count": null,
   "metadata": {
    "colab": {},
    "colab_type": "code",
    "id": "hapkMSwVXstR"
   },
   "outputs": [],
   "source": [
    "#cálculo del presupuesto\n",
    "\n",
    "#cantidades de insumos a, b, c del Componente 1\n",
    "n_iabc_c1 = [60, 3, 18]\n",
    "\n",
    "#costos unitarios de insumos a, b, c del Componente 1\n",
    "cu_iabc_c1 = [300, 50, 30]\n",
    "\n",
    "#presupuesto del comoponente 1\n",
    "cp_c1 = np.array(n_iabc_c1) * np.array(cu_iabc_c1)"
   ]
  },
  {
   "cell_type": "code",
   "execution_count": null,
   "metadata": {
    "colab": {
     "base_uri": "https://localhost:8080/",
     "height": 34
    },
    "colab_type": "code",
    "id": "N0uPeLA7Z91L",
    "outputId": "0454cf62-c5b6-4c7a-d268-8f47abc0c96a"
   },
   "outputs": [
    {
     "data": {
      "text/plain": [
       "18690"
      ]
     },
     "execution_count": 5,
     "metadata": {
      "tags": []
     },
     "output_type": "execute_result"
    }
   ],
   "source": [
    "cp_c1_s = cp_c1.sum()\n",
    "cp_c1_s"
   ]
  },
  {
   "cell_type": "code",
   "execution_count": null,
   "metadata": {
    "colab": {
     "base_uri": "https://localhost:8080/",
     "height": 34
    },
    "colab_type": "code",
    "id": "n2HXqkTsaexG",
    "outputId": "f6147934-ea2c-4dd9-adec-ec4ef6911011"
   },
   "outputs": [
    {
     "data": {
      "text/plain": [
       "19560"
      ]
     },
     "execution_count": 6,
     "metadata": {
      "tags": []
     },
     "output_type": "execute_result"
    }
   ],
   "source": [
    "#cálculo del presupuesto Componente 2\n",
    "n_iabc_c2 = [12, 100, 45]\n",
    "cu_iabc_c2 = [45, 75, 256]\n",
    "cp_c2 = np.array(n_iabc_c2) * np.array(cu_iabc_c2)\n",
    "cp_c2_s = cp_c2.sum()\n",
    "cp_c2_s"
   ]
  },
  {
   "cell_type": "code",
   "execution_count": null,
   "metadata": {
    "colab": {
     "base_uri": "https://localhost:8080/",
     "height": 34
    },
    "colab_type": "code",
    "id": "i7X2RZJKa_vR",
    "outputId": "c14d7c6a-df60-4548-841a-f4ecdbf4ec8d"
   },
   "outputs": [
    {
     "data": {
      "text/plain": [
       "1038.3333333333333"
      ]
     },
     "execution_count": 7,
     "metadata": {
      "tags": []
     },
     "output_type": "execute_result"
    }
   ],
   "source": [
    "#costos unitarios de ejecución\n",
    "cpu_c1 = cp_c1_s/u_c1[-1]\n",
    "cpu_c1"
   ]
  },
  {
   "cell_type": "code",
   "execution_count": null,
   "metadata": {
    "colab": {
     "base_uri": "https://localhost:8080/",
     "height": 34
    },
    "colab_type": "code",
    "id": "xn6nRLdxbSpY",
    "outputId": "b96eeeb3-8894-462a-e181-a069629362a8"
   },
   "outputs": [
    {
     "data": {
      "text/plain": [
       "55.885714285714286"
      ]
     },
     "execution_count": 8,
     "metadata": {
      "tags": []
     },
     "output_type": "execute_result"
    }
   ],
   "source": [
    "cpu_c2 = cp_c2_s/u_c2[-1]\n",
    "cpu_c2"
   ]
  },
  {
   "cell_type": "code",
   "execution_count": null,
   "metadata": {
    "colab": {
     "base_uri": "https://localhost:8080/",
     "height": 34
    },
    "colab_type": "code",
    "id": "FEg93gIYcNtX",
    "outputId": "2929ce67-1da9-4297-8b5d-e710ea8da546"
   },
   "outputs": [
    {
     "data": {
      "text/plain": [
       "(array([18690, 19560]), array([0.48862745, 0.51137255]))"
      ]
     },
     "execution_count": 9,
     "metadata": {
      "tags": []
     },
     "output_type": "execute_result"
    }
   ],
   "source": [
    "cp_logro = np.array([cp_c1_s, cp_c2_s])\n",
    "cp_porc = cp_logro / cp_logro.sum()\n",
    "cp_logro, cp_porc"
   ]
  },
  {
   "cell_type": "code",
   "execution_count": null,
   "metadata": {
    "colab": {
     "base_uri": "https://localhost:8080/",
     "height": 34
    },
    "colab_type": "code",
    "id": "aJXxoHn6eBzx",
    "outputId": "a2924364-0b42-49ce-8b1c-49530e1591e0"
   },
   "outputs": [
    {
     "data": {
      "text/plain": [
       "array([0.35, 0.65])"
      ]
     },
     "execution_count": 10,
     "metadata": {
      "tags": []
     },
     "output_type": "execute_result"
    }
   ],
   "source": [
    "#importancias\n",
    "vp_porc = np.array([0.35, 0.65])\n",
    "vp_porc"
   ]
  },
  {
   "cell_type": "code",
   "execution_count": null,
   "metadata": {
    "colab": {
     "base_uri": "https://localhost:8080/",
     "height": 34
    },
    "colab_type": "code",
    "id": "JFN1kz1ReRCA",
    "outputId": "fd040f18-9b66-4902-c6b0-cb8bead7edbe"
   },
   "outputs": [
    {
     "data": {
      "text/plain": [
       "array([13387.5, 24862.5])"
      ]
     },
     "execution_count": 12,
     "metadata": {
      "tags": []
     },
     "output_type": "execute_result"
    }
   ],
   "source": [
    "#creación de matriz de importancias por componente\n",
    "vp_logro = cp_logro.sum() * vp_porc\n",
    "vp_logro"
   ]
  },
  {
   "cell_type": "code",
   "execution_count": null,
   "metadata": {
    "colab": {
     "base_uri": "https://localhost:8080/",
     "height": 68
    },
    "colab_type": "code",
    "id": "TqTwDjZ5XmYL",
    "outputId": "597c82b2-5ba2-4638-8e9d-21b9649eefb3"
   },
   "outputs": [
    {
     "data": {
      "text/plain": [
       "array([1.09421905e+01, 6.94761905e+03, 6.94761905e+03, 1.29362857e+04,\n",
       "       1.29362857e+04, 1.84454762e+04, 2.00426667e+04, 2.92257143e+04,\n",
       "       3.44967619e+04, 3.82500000e+04])"
      ]
     },
     "execution_count": 13,
     "metadata": {
      "tags": []
     },
     "output_type": "execute_result"
    }
   ],
   "source": [
    "cplan = np.array(u_c1) * cpu_c1 + np.array(u_c2) * cpu_c2\n",
    "cplan"
   ]
  },
  {
   "cell_type": "code",
   "execution_count": null,
   "metadata": {
    "colab": {
     "base_uri": "https://localhost:8080/",
     "height": 34
    },
    "colab_type": "code",
    "id": "RQpfxG1cnJbw",
    "outputId": "b3dc6e1c-1e44-428f-d68d-1142ff522286"
   },
   "outputs": [
    {
     "data": {
      "text/plain": [
       "24862.5"
      ]
     },
     "execution_count": 14,
     "metadata": {
      "tags": []
     },
     "output_type": "execute_result"
    }
   ],
   "source": [
    "vp_logro[1]"
   ]
  },
  {
   "cell_type": "code",
   "execution_count": null,
   "metadata": {
    "colab": {
     "base_uri": "https://localhost:8080/",
     "height": 68
    },
    "colab_type": "code",
    "id": "NIb-iPJpb8G5",
    "outputId": "73bd80b0-70d5-462d-f6ac-75e646d8c821"
   },
   "outputs": [
    {
     "data": {
      "text/plain": [
       "array([8.14785714e+00, 6.52678571e+03, 6.52678571e+03, 1.29867857e+04,\n",
       "       1.29867857e+04, 1.94133929e+04, 2.08675000e+04, 3.02357143e+04,\n",
       "       3.46314286e+04, 3.82500000e+04])"
      ]
     },
     "execution_count": 15,
     "metadata": {
      "tags": []
     },
     "output_type": "execute_result"
    }
   ],
   "source": [
    "vpu_c1 = vp_logro[0]/u_c1[-1]\n",
    "vpu_c2 = vp_logro[1]/u_c2[-1]\n",
    "vplan = np.array(u_c1) * vpu_c1 + np.array(u_c2) * vpu_c2\n",
    "vplan"
   ]
  },
  {
   "cell_type": "code",
   "execution_count": null,
   "metadata": {
    "colab": {
     "base_uri": "https://localhost:8080/",
     "height": 286
    },
    "colab_type": "code",
    "id": "xQsWsAHVnnz2",
    "outputId": "51402073-f36f-4f65-b0a3-662c3d5c8631"
   },
   "outputs": [
    {
     "data": {
      "text/plain": [
       "[<matplotlib.lines.Line2D at 0x7f2b08c672e8>]"
      ]
     },
     "execution_count": 16,
     "metadata": {
      "tags": []
     },
     "output_type": "execute_result"
    },
    {
     "data": {
      "image/png": "[encoded data removed]",
      "text/plain": [
       "<Figure size 432x288 with 1 Axes>"
      ]
     },
     "metadata": {
      "tags": []
     },
     "output_type": "display_data"
    }
   ],
   "source": [
    "plt.plot(cplan)\n",
    "plt.plot(vplan)"
   ]
  },
  {
   "cell_type": "code",
   "execution_count": null,
   "metadata": {
    "colab": {
     "base_uri": "https://localhost:8080/",
     "height": 51
    },
    "colab_type": "code",
    "id": "iqsbgXq1oX2n",
    "outputId": "ddd65a5b-cf97-4513-a829-c33425f8d548"
   },
   "outputs": [
    {
     "data": {
      "text/plain": [
       "array([0.74462761, 0.93942769, 0.93942769, 1.00390375, 1.00390375,\n",
       "       1.05247447, 1.04115387, 1.03455861, 1.00390375, 1.        ])"
      ]
     },
     "execution_count": 17,
     "metadata": {
      "tags": []
     },
     "output_type": "execute_result"
    }
   ],
   "source": [
    "eficacia_p = np.divide(vplan, cplan)\n",
    "eficacia_p"
   ]
  },
  {
   "cell_type": "code",
   "execution_count": null,
   "metadata": {
    "colab": {
     "base_uri": "https://localhost:8080/",
     "height": 286
    },
    "colab_type": "code",
    "id": "rkXCIYpZpVTm",
    "outputId": "f658628a-82aa-4275-d8f2-18a55dccbaaf"
   },
   "outputs": [
    {
     "data": {
      "text/plain": [
       "[<matplotlib.lines.Line2D at 0x7f2b063f3f60>]"
      ]
     },
     "execution_count": 18,
     "metadata": {
      "tags": []
     },
     "output_type": "execute_result"
    },
    {
     "data": {
      "image/png": "[encoded data removed]",
      "text/plain": [
       "<Figure size 432x288 with 1 Axes>"
      ]
     },
     "metadata": {
      "tags": []
     },
     "output_type": "display_data"
    }
   ],
   "source": [
    "plt.plot(eficacia_p)"
   ]
  },
  {
   "cell_type": "code",
   "execution_count": null,
   "metadata": {
    "colab": {},
    "colab_type": "code",
    "id": "ApuWqqOfbvYg"
   },
   "outputs": [],
   "source": [
    "u_c1_r = [0.01, 3, 4, 4]\n",
    "u_c2_r = [0.01, 40, 60, 63]"
   ]
  },
  {
   "cell_type": "code",
   "execution_count": null,
   "metadata": {
    "colab": {
     "base_uri": "https://localhost:8080/",
     "height": 395
    },
    "colab_type": "code",
    "id": "kRxt4nkHigq9",
    "outputId": "515b410a-40d5-4874-fbab-0f7085716369"
   },
   "outputs": [
    {
     "data": {
      "text/plain": [
       "<matplotlib.axes._subplots.AxesSubplot at 0x7f968eeabef0>"
      ]
     },
     "execution_count": 30,
     "metadata": {
      "tags": []
     },
     "output_type": "execute_result"
    },
    {
     "data": {
      "image/png": "[encoded data removed]",
      "text/plain": [
       "<Figure size 720x432 with 1 Axes>"
      ]
     },
     "metadata": {
      "tags": []
     },
     "output_type": "display_data"
    }
   ],
   "source": [
    "data[['vplan', 'vreal', 'cplan', 'creal']].plot(figsize=(10,6), ylim=(0,0.8))"
   ]
  },
  {
   "cell_type": "code",
   "execution_count": null,
   "metadata": {
    "colab": {
     "base_uri": "https://localhost:8080/",
     "height": 395
    },
    "colab_type": "code",
    "id": "WoD1Q_hDiTD-",
    "outputId": "cd45f978-5fab-4170-ec57-605f6e45c2fc"
   },
   "outputs": [
    {
     "data": {
      "text/plain": [
       "<matplotlib.axes._subplots.AxesSubplot at 0x7f968f057a20>"
      ]
     },
     "execution_count": 28,
     "metadata": {
      "tags": []
     },
     "output_type": "execute_result"
    },
    {
     "data": {
      "image/png": "[encoded data removed]",
      "text/plain": [
       "<Figure size 720x432 with 1 Axes>"
      ]
     },
     "metadata": {
      "tags": []
     },
     "output_type": "display_data"
    }
   ],
   "source": [
    "data[['spi', 'cpi']].plot(figsize=(10,6), ylim=(0,2))"
   ]
  }
 ],
 "metadata": {
  "colab": {
   "name": "monitoreo.ipynb",
   "provenance": [],
   "version": "0.3.2"
  },
  "kernelspec": {
   "display_name": "Python 3",
   "language": "python",
   "name": "python3"
  },
  "language_info": {
   "codemirror_mode": {
    "name": "ipython",
    "version": 3
   },
   "file_extension": ".py",
   "mimetype": "text/x-python",
   "name": "python",
   "nbconvert_exporter": "python",
   "pygments_lexer": "ipython3",
   "version": "3.7.3"
  }
 },
 "nbformat": 4,
 "nbformat_minor": 2
}
