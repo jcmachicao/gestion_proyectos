{
  "nbformat": 4,
  "nbformat_minor": 0,
  "metadata": {
    "colab": {
      "provenance": [],
      "authorship_tag": "ABX9TyPxKgkKDZVrPELbpR+mJ9NQ",
      "include_colab_link": true
    },
    "kernelspec": {
      "name": "python3",
      "display_name": "Python 3"
    },
    "language_info": {
      "name": "python"
    }
  },
  "cells": [
    {
      "cell_type": "markdown",
      "metadata": {
        "id": "view-in-github",
        "colab_type": "text"
      },
      "source": [
        "<a href=\"https://colab.research.google.com/github/jcmachicao/gestion_proyectos/blob/main/pm__secuencias_grafos_ruta_critica.ipynb\" target=\"_parent\"><img src=\"https://colab.research.google.com/assets/colab-badge.svg\" alt=\"Open In Colab\"/></a>"
      ]
    },
    {
      "cell_type": "code",
      "source": [
        "import networkx as nx\n",
        "import matplotlib.pyplot as plt"
      ],
      "metadata": {
        "id": "m6qQdnf1wW23"
      },
      "execution_count": null,
      "outputs": []
    },
    {
      "cell_type": "code",
      "source": [
        "G = nx.DiGraph()\n",
        "# Add nodes for each task (A, B, C) with their estimated durations\n",
        "G.add_node(\"A\", duration=5)\n",
        "G.add_node(\"B\", duration=3)\n",
        "G.add_node(\"C\", duration=5)\n",
        "G.add_node(\"D\", duration=3)\n",
        "G.add_node(\"E\", duration=2)\n",
        "# Add directed edges to represent task dependencies\n",
        "G.add_edge(\"A\", \"B\")\n",
        "G.add_edge(\"B\", \"C\")\n",
        "G.add_edge(\"C\", \"D\")\n",
        "G.add_edge(\"B\", \"D\")\n",
        "G.add_edge(\"D\", \"E\")"
      ],
      "metadata": {
        "id": "Saw_eSn_wqwB"
      },
      "execution_count": null,
      "outputs": []
    },
    {
      "cell_type": "code",
      "source": [
        "# Draw the graph\n",
        "pos = nx.spring_layout(G)  # Layout algorithm for positioning nodes\n",
        "nx.draw(G, pos, with_labels=True, node_size=500, node_color='lightblue', font_size=12, font_color='black', font_weight='bold')\n",
        "edge_labels = {(i, j): G[i][j].get('weight', '') for i, j in G.edges()}\n",
        "nx.draw_networkx_edge_labels(G, pos, edge_labels=edge_labels)\n",
        "plt.title(\"Project Network\")\n",
        "plt.show()"
      ],
      "metadata": {
        "colab": {
          "base_uri": "https://localhost:8080/",
          "height": 539
        },
        "id": "IpWkcj6oyCRW",
        "outputId": "f37de83f-62be-4f48-8f1c-2029e4f6773a"
      },
      "execution_count": null,
      "outputs": [
        {
          "output_type": "display_data",
          "data": {
            "text/plain": [
              "<Figure size 640x480 with 1 Axes>"
            ],
            "image/png": "[encoded data removed]"
          },
          "metadata": {}
        }
      ]
    },
    {
      "cell_type": "code",
      "source": [
        "G.edges()"
      ],
      "metadata": {
        "colab": {
          "base_uri": "https://localhost:8080/"
        },
        "id": "L3s7BS1lwua_",
        "outputId": "bdeed9ba-fccf-42dd-8279-7b78e4482574"
      },
      "execution_count": null,
      "outputs": [
        {
          "output_type": "execute_result",
          "data": {
            "text/plain": [
              "OutEdgeView([('A', 'B'), ('B', 'C'), ('B', 'D'), ('C', 'D'), ('D', 'E')])"
            ]
          },
          "metadata": {},
          "execution_count": 22
        }
      ]
    },
    {
      "cell_type": "code",
      "source": [
        "# Calculate the earliest start and finish times using topological sort\n",
        "earliest_times = nx.topological_sort(G)\n",
        "earliest_times"
      ],
      "metadata": {
        "colab": {
          "base_uri": "https://localhost:8080/"
        },
        "id": "QfZ0qH8Zw82F",
        "outputId": "5d8d7131-eded-4f25-e9df-194c00dd8273"
      },
      "execution_count": null,
      "outputs": [
        {
          "output_type": "execute_result",
          "data": {
            "text/plain": [
              "<generator object topological_sort at 0x7885f91e4040>"
            ]
          },
          "metadata": {},
          "execution_count": 23
        }
      ]
    },
    {
      "cell_type": "code",
      "execution_count": null,
      "metadata": {
        "colab": {
          "base_uri": "https://localhost:8080/"
        },
        "id": "4I8PSxmSwVNS",
        "outputId": "e27a784b-a0c6-48c9-cd9a-4de878191ed4"
      },
      "outputs": [
        {
          "output_type": "stream",
          "name": "stdout",
          "text": [
            "Critical Path: ['A', 'B', 'C', 'D', 'E']\n"
          ]
        }
      ],
      "source": [
        "for node in earliest_times:\n",
        "    if len(list(G.predecessors(node))) == 0:\n",
        "        G.nodes[node][\"earliest_start\"] = 0\n",
        "    else:\n",
        "        G.nodes[node][\"earliest_start\"] = max(\n",
        "            [G.nodes[predecessor][\"earliest_finish\"] for predecessor in G.predecessors(node)]\n",
        "        )\n",
        "    G.nodes[node][\"earliest_finish\"] = G.nodes[node][\"earliest_start\"] + G.nodes[node][\"duration\"]\n",
        "\n",
        "# Calculate the latest start and finish times by working backward\n",
        "latest_times = list(reversed(list(nx.topological_sort(G))))\n",
        "for node in latest_times:\n",
        "    if len(list(G.successors(node))) == 0:\n",
        "        G.nodes[node][\"latest_finish\"] = G.nodes[node][\"earliest_finish\"]\n",
        "    else:\n",
        "        G.nodes[node][\"latest_finish\"] = min(\n",
        "            [G.nodes[successor][\"latest_start\"] for successor in G.successors(node)]\n",
        "        )\n",
        "    G.nodes[node][\"latest_start\"] = G.nodes[node][\"latest_finish\"] - G.nodes[node][\"duration\"]\n",
        "\n",
        "# Calculate slack for each task (LS - ES)\n",
        "for node in G.nodes:\n",
        "    G.nodes[node][\"slack\"] = G.nodes[node][\"latest_start\"] - G.nodes[node][\"earliest_start\"]\n",
        "\n",
        "# Find the critical path by identifying tasks with zero slack\n",
        "critical_path = [node for node in G.nodes if G.nodes[node][\"slack\"] == 0]\n",
        "\n",
        "print(\"Critical Path:\", critical_path)"
      ]
    }
  ]
}